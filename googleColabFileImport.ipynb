{
  "nbformat": 4,
  "nbformat_minor": 0,
  "metadata": {
    "colab": {
      "name": "googleColabFileImport.ipynb",
      "private_outputs": true,
      "provenance": [],
      "authorship_tag": "ABX9TyP/2/8FDGWiPga8Pz3b/8of",
      "include_colab_link": true
    },
    "kernelspec": {
      "name": "python3",
      "display_name": "Python 3"
    },
    "language_info": {
      "name": "python"
    }
  },
  "cells": [
    {
      "cell_type": "markdown",
      "metadata": {
        "id": "view-in-github",
        "colab_type": "text"
      },
      "source": [
        "<a href=\"https://colab.research.google.com/github/optimalMachine/myTeamNotes/blob/main/googleColabFileImport.ipynb\" target=\"_parent\"><img src=\"https://colab.research.google.com/assets/colab-badge.svg\" alt=\"Open In Colab\"/></a>"
      ]
    },
    {
      "cell_type": "code",
      "metadata": {
        "id": "3yxGM3KqMY_L"
      },
      "source": [
        "from google.colab import drive\n",
        "drive.mount('/content/drive')"
      ],
      "execution_count": null,
      "outputs": []
    },
    {
      "cell_type": "code",
      "metadata": {
        "id": "Vjk8Qd8UMev5"
      },
      "source": [
        "# Read lists of locations (simply run this code block)\n",
        "with open('/content/drive/MyDrive/Colab Notebooks/Project_Bundle_-_Python_for_Data_Science/Python for Data Science/project_files/brent.txt', 'r') as f:\n",
        "    brent = f.read().splitlines()"
      ],
      "execution_count": null,
      "outputs": []
    }
  ]
}